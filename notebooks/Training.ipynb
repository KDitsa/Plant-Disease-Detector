{
 "cells": [
  {
   "cell_type": "markdown",
   "id": "47b676a9-b986-42d0-82e7-1b53ce6c32a8",
   "metadata": {},
   "source": [
    "# Importing Libraries"
   ]
  },
  {
   "cell_type": "code",
   "execution_count": 1,
   "id": "a093ca00-5a66-4ca7-8a22-5e05009f0c41",
   "metadata": {},
   "outputs": [],
   "source": [
    "import tensorflow as tf\n",
    "import matplotlib.pyplot as plt\n",
    "import json\n",
    "from sklearn.metrics import classification_report,confusion_matrix\n",
    "import seaborn as sns"
   ]
  },
  {
   "cell_type": "markdown",
   "id": "b7f9dde3-99a6-4455-bb4f-e7f4b2d36240",
   "metadata": {},
   "source": [
    "# Image Data Loading"
   ]
  },
  {
   "cell_type": "code",
   "execution_count": 2,
   "id": "04d3a442-fe27-4388-8ae1-e20b47bea3c8",
   "metadata": {},
   "outputs": [],
   "source": [
    "data_path_train = \"../data/train\"\n",
    "data_path_valid = \"../data/valid\""
   ]
  },
  {
   "cell_type": "code",
   "execution_count": 3,
   "id": "ce9e2554-d44a-48b2-bc12-6560100745fd",
   "metadata": {},
   "outputs": [
    {
     "name": "stdout",
     "output_type": "stream",
     "text": [
      "Found 70295 files belonging to 38 classes.\n"
     ]
    }
   ],
   "source": [
    "train_ds = tf.keras.utils.image_dataset_from_directory(\n",
    "    data_path_train,\n",
    "    labels=\"inferred\",\n",
    "    label_mode=\"categorical\",\n",
    "    class_names=None,\n",
    "    color_mode=\"rgb\",\n",
    "    batch_size=32,\n",
    "    image_size=(128,128),\n",
    "    shuffle=True,\n",
    "    seed=42,\n",
    "    validation_split=None,\n",
    "    interpolation=\"bilinear\",\n",
    "    follow_links=False,\n",
    "    crop_to_aspect_ratio=False,\n",
    "    pad_to_aspect_ratio=False,\n",
    "    data_format=None,\n",
    "    verbose=True,\n",
    ")"
   ]
  },
  {
   "cell_type": "code",
   "execution_count": 4,
   "id": "d12f5711-9eea-4ef3-9dde-bcc067614133",
   "metadata": {},
   "outputs": [
    {
     "data": {
      "text/plain": [
       "<_PrefetchDataset element_spec=(TensorSpec(shape=(None, 128, 128, 3), dtype=tf.float32, name=None), TensorSpec(shape=(None, 38), dtype=tf.float32, name=None))>"
      ]
     },
     "execution_count": 4,
     "metadata": {},
     "output_type": "execute_result"
    }
   ],
   "source": [
    "train_ds"
   ]
  },
  {
   "cell_type": "code",
   "execution_count": 5,
   "id": "8cfa19b5-3d18-4f80-90f5-766decb036df",
   "metadata": {},
   "outputs": [
    {
     "name": "stdout",
     "output_type": "stream",
     "text": [
      "tf.Tensor(\n",
      "[[[[158.   138.   137.  ]\n",
      "   [161.75 141.75 140.75]\n",
      "   [161.75 141.75 140.75]\n",
      "   ...\n",
      "   [199.5  181.5  181.5 ]\n",
      "   [195.75 177.75 177.75]\n",
      "   [182.25 164.25 164.25]]\n",
      "\n",
      "  [[166.5  146.5  145.5 ]\n",
      "   [149.   129.   128.  ]\n",
      "   [154.75 134.75 133.75]\n",
      "   ...\n",
      "   [179.75 161.75 161.75]\n",
      "   [177.25 159.25 159.25]\n",
      "   [192.5  174.5  174.5 ]]\n",
      "\n",
      "  [[155.75 135.75 134.75]\n",
      "   [153.75 133.75 132.75]\n",
      "   [161.75 141.75 140.75]\n",
      "   ...\n",
      "   [181.25 163.25 163.25]\n",
      "   [192.75 174.75 174.75]\n",
      "   [187.75 169.75 169.75]]\n",
      "\n",
      "  ...\n",
      "\n",
      "  [[106.5   92.5   81.5 ]\n",
      "   [100.5   86.5   75.5 ]\n",
      "   [101.    87.    76.  ]\n",
      "   ...\n",
      "   [124.   116.75  91.75]\n",
      "   [126.75 109.5   96.25]\n",
      "   [131.25 106.75  99.25]]\n",
      "\n",
      "  [[102.75  90.75  78.75]\n",
      "   [ 96.5   84.5   72.5 ]\n",
      "   [ 98.75  86.75  74.75]\n",
      "   ...\n",
      "   [ 87.    85.    57.  ]\n",
      "   [110.25  98.5   83.5 ]\n",
      "   [150.25 132.25 122.5 ]]\n",
      "\n",
      "  [[101.75  89.75  77.75]\n",
      "   [ 91.75  79.75  67.75]\n",
      "   [ 95.    83.    71.  ]\n",
      "   ...\n",
      "   [ 75.5   78.    49.5 ]\n",
      "   [ 28.5   21.5    7.75]\n",
      "   [ 46.75  34.25  23.75]]]\n",
      "\n",
      "\n",
      " [[[153.75 143.75 151.75]\n",
      "   [155.   145.   153.  ]\n",
      "   [155.25 145.25 153.25]\n",
      "   ...\n",
      "   [149.5  142.5  150.5 ]\n",
      "   [150.5  143.5  151.5 ]\n",
      "   [155.25 148.25 156.25]]\n",
      "\n",
      "  [[155.   145.   153.  ]\n",
      "   [155.75 145.75 153.75]\n",
      "   [155.5  145.5  153.5 ]\n",
      "   ...\n",
      "   [145.75 138.75 146.75]\n",
      "   [146.   139.   147.  ]\n",
      "   [148.25 141.25 149.25]]\n",
      "\n",
      "  [[156.5  146.5  154.5 ]\n",
      "   [157.25 147.25 155.25]\n",
      "   [155.75 145.75 153.75]\n",
      "   ...\n",
      "   [145.25 138.25 146.25]\n",
      "   [156.75 149.75 157.75]\n",
      "   [144.5  137.5  145.5 ]]\n",
      "\n",
      "  ...\n",
      "\n",
      "  [[153.5  146.5  153.5 ]\n",
      "   [151.   144.   151.  ]\n",
      "   [153.25 146.25 153.25]\n",
      "   ...\n",
      "   [155.   139.75  97.  ]\n",
      "   [170.25 149.   112.75]\n",
      "   [185.   160.   129.  ]]\n",
      "\n",
      "  [[152.5  145.5  152.5 ]\n",
      "   [152.   145.   152.  ]\n",
      "   [154.   147.   154.  ]\n",
      "   ...\n",
      "   [145.25 131.75  91.75]\n",
      "   [163.75 142.25 107.75]\n",
      "   [168.   141.5  112.  ]]\n",
      "\n",
      "  [[152.   145.   152.  ]\n",
      "   [152.5  145.5  152.5 ]\n",
      "   [154.75 147.75 154.75]\n",
      "   ...\n",
      "   [129.5  116.    76.5 ]\n",
      "   [155.75 134.25 101.25]\n",
      "   [168.5  141.5  112.5 ]]]\n",
      "\n",
      "\n",
      " [[[139.75 133.75 143.75]\n",
      "   [162.   156.   166.  ]\n",
      "   [142.5  136.5  146.5 ]\n",
      "   ...\n",
      "   [178.75 172.75 182.75]\n",
      "   [158.25 152.25 162.25]\n",
      "   [168.   162.   172.  ]]\n",
      "\n",
      "  [[155.5  149.5  159.5 ]\n",
      "   [156.   150.   160.  ]\n",
      "   [150.25 144.25 154.25]\n",
      "   ...\n",
      "   [159.5  153.5  163.5 ]\n",
      "   [172.75 166.75 176.75]\n",
      "   [171.   165.   175.  ]]\n",
      "\n",
      "  [[164.75 158.75 168.75]\n",
      "   [145.75 139.75 149.75]\n",
      "   [152.25 146.25 156.25]\n",
      "   ...\n",
      "   [183.75 177.75 187.75]\n",
      "   [169.5  163.5  173.5 ]\n",
      "   [159.75 153.75 163.75]]\n",
      "\n",
      "  ...\n",
      "\n",
      "  [[183.25 177.25 187.25]\n",
      "   [181.   175.   185.  ]\n",
      "   [179.   173.   183.  ]\n",
      "   ...\n",
      "   [184.25 181.25 192.25]\n",
      "   [182.   179.   190.  ]\n",
      "   [185.   182.   193.  ]]\n",
      "\n",
      "  [[178.5  172.5  182.5 ]\n",
      "   [178.   172.   182.  ]\n",
      "   [178.5  172.5  182.5 ]\n",
      "   ...\n",
      "   [187.75 184.75 195.75]\n",
      "   [185.5  182.5  193.5 ]\n",
      "   [187.   184.   195.  ]]\n",
      "\n",
      "  [[178.25 172.25 182.25]\n",
      "   [181.25 175.25 185.25]\n",
      "   [181.5  175.5  185.5 ]\n",
      "   ...\n",
      "   [183.   180.   191.  ]\n",
      "   [186.25 183.25 194.25]\n",
      "   [185.75 182.75 193.75]]]\n",
      "\n",
      "\n",
      " ...\n",
      "\n",
      "\n",
      " [[[120.   120.   144.  ]\n",
      "   [111.5  111.5  135.5 ]\n",
      "   [112.25 112.25 136.25]\n",
      "   ...\n",
      "   [139.   140.   168.  ]\n",
      "   [134.25 135.25 163.25]\n",
      "   [138.75 139.75 167.75]]\n",
      "\n",
      "  [[112.5  112.5  136.5 ]\n",
      "   [122.5  122.5  146.5 ]\n",
      "   [124.   124.   148.  ]\n",
      "   ...\n",
      "   [139.75 140.75 168.75]\n",
      "   [131.   132.   160.  ]\n",
      "   [132.   133.   161.  ]]\n",
      "\n",
      "  [[118.75 118.75 142.75]\n",
      "   [127.25 127.25 151.25]\n",
      "   [137.75 137.75 161.75]\n",
      "   ...\n",
      "   [140.75 141.75 169.75]\n",
      "   [134.25 135.25 163.25]\n",
      "   [136.5  137.5  165.5 ]]\n",
      "\n",
      "  ...\n",
      "\n",
      "  [[ 94.25  95.25 125.25]\n",
      "   [100.75 101.75 131.75]\n",
      "   [ 92.    93.   123.  ]\n",
      "   ...\n",
      "   [114.5  117.5  152.5 ]\n",
      "   [109.75 112.75 147.75]\n",
      "   [114.75 117.75 152.75]]\n",
      "\n",
      "  [[104.5  105.5  135.5 ]\n",
      "   [ 99.75 100.75 130.75]\n",
      "   [103.25 104.25 134.25]\n",
      "   ...\n",
      "   [114.5  117.5  152.5 ]\n",
      "   [109.   112.   147.  ]\n",
      "   [113.   116.   151.  ]]\n",
      "\n",
      "  [[ 89.75  90.75 120.75]\n",
      "   [ 95.25  96.25 126.25]\n",
      "   [102.   103.   133.  ]\n",
      "   ...\n",
      "   [108.   111.   146.  ]\n",
      "   [109.5  112.5  147.5 ]\n",
      "   [110.5  113.5  148.5 ]]]\n",
      "\n",
      "\n",
      " [[[  0.     0.     0.  ]\n",
      "   [  0.     0.     0.  ]\n",
      "   [  0.     0.     0.  ]\n",
      "   ...\n",
      "   [  0.     0.     0.  ]\n",
      "   [  0.     0.     0.  ]\n",
      "   [  0.     0.     0.  ]]\n",
      "\n",
      "  [[  0.     0.     0.  ]\n",
      "   [  0.     0.     0.  ]\n",
      "   [  0.     0.     0.  ]\n",
      "   ...\n",
      "   [  0.     0.     0.  ]\n",
      "   [  0.     0.     0.  ]\n",
      "   [  0.     0.     0.  ]]\n",
      "\n",
      "  [[  0.     0.     0.  ]\n",
      "   [  0.     0.     0.  ]\n",
      "   [  0.     0.     0.  ]\n",
      "   ...\n",
      "   [  0.     0.     0.  ]\n",
      "   [  0.     0.     0.  ]\n",
      "   [  0.     0.     0.  ]]\n",
      "\n",
      "  ...\n",
      "\n",
      "  [[103.75 130.75  97.75]\n",
      "   [104.5  131.5   96.5 ]\n",
      "   [107.75 133.75  98.75]\n",
      "   ...\n",
      "   [ 67.75  87.25  27.  ]\n",
      "   [ 56.5   76.5   15.5 ]\n",
      "   [ 67.75  87.75  26.75]]\n",
      "\n",
      "  [[ 96.75 123.75  90.75]\n",
      "   [101.75 128.75  93.75]\n",
      "   [ 99.5  125.5   90.5 ]\n",
      "   ...\n",
      "   [ 74.75  88.75  32.25]\n",
      "   [ 72.25  86.    27.25]\n",
      "   [ 70.75  82.75  26.75]]\n",
      "\n",
      "  [[101.25 128.25  95.25]\n",
      "   [102.75 129.75  94.75]\n",
      "   [ 87.75 113.75  78.75]\n",
      "   ...\n",
      "   [ 76.    86.75  31.5 ]\n",
      "   [ 72.75  82.25  27.  ]\n",
      "   [ 84.    92.    37.5 ]]]\n",
      "\n",
      "\n",
      " [[[113.75 119.75 117.75]\n",
      "   [115.25 121.25 119.25]\n",
      "   [115.25 121.25 119.25]\n",
      "   ...\n",
      "   [121.5  122.5  114.5 ]\n",
      "   [118.25 119.25 111.25]\n",
      "   [120.5  121.5  113.5 ]]\n",
      "\n",
      "  [[116.   122.   120.  ]\n",
      "   [114.5  120.5  118.5 ]\n",
      "   [114.5  120.5  118.5 ]\n",
      "   ...\n",
      "   [116.   117.   109.  ]\n",
      "   [113.25 114.25 106.25]\n",
      "   [115.5  116.5  108.5 ]]\n",
      "\n",
      "  [[116.5  122.5  120.5 ]\n",
      "   [115.   121.   119.  ]\n",
      "   [115.   121.   119.  ]\n",
      "   ...\n",
      "   [111.5  112.5  104.5 ]\n",
      "   [109.5  110.5  102.5 ]\n",
      "   [112.5  113.5  105.5 ]]\n",
      "\n",
      "  ...\n",
      "\n",
      "  [[125.5  125.5  125.5 ]\n",
      "   [124.5  124.5  124.5 ]\n",
      "   [123.75 123.75 123.75]\n",
      "   ...\n",
      "   [108.25 108.25 100.25]\n",
      "   [107.25 107.25  99.25]\n",
      "   [104.75 104.75  96.75]]\n",
      "\n",
      "  [[123.   123.   123.  ]\n",
      "   [120.5  120.5  120.5 ]\n",
      "   [119.25 119.25 119.25]\n",
      "   ...\n",
      "   [102.25 102.25  94.25]\n",
      "   [103.   103.    95.  ]\n",
      "   [103.5  103.5   95.5 ]]\n",
      "\n",
      "  [[123.5  123.5  123.5 ]\n",
      "   [119.75 119.75 119.75]\n",
      "   [119.   119.   119.  ]\n",
      "   ...\n",
      "   [102.25 102.25  94.25]\n",
      "   [100.75 100.75  92.75]\n",
      "   [100.5  100.5   92.5 ]]]], shape=(32, 128, 128, 3), dtype=float32) (32, 128, 128, 3)\n",
      "tf.Tensor(\n",
      "[[0. 0. 0. ... 0. 0. 0.]\n",
      " [0. 0. 0. ... 0. 0. 0.]\n",
      " [0. 0. 0. ... 0. 0. 0.]\n",
      " ...\n",
      " [0. 0. 0. ... 0. 0. 0.]\n",
      " [0. 0. 0. ... 0. 0. 0.]\n",
      " [0. 0. 0. ... 1. 0. 0.]], shape=(32, 38), dtype=float32) (32, 38)\n"
     ]
    }
   ],
   "source": [
    "for x,y in train_ds:\n",
    "    print(x,x.shape)\n",
    "    print(y,y.shape)\n",
    "    break"
   ]
  },
  {
   "cell_type": "code",
   "execution_count": 6,
   "id": "d1c28b08-11b1-4d2c-b9e5-6e7e1c97bc07",
   "metadata": {},
   "outputs": [
    {
     "name": "stdout",
     "output_type": "stream",
     "text": [
      "Found 17572 files belonging to 38 classes.\n"
     ]
    }
   ],
   "source": [
    "valid_ds = tf.keras.utils.image_dataset_from_directory(\n",
    "    data_path_valid,\n",
    "    labels=\"inferred\",\n",
    "    label_mode=\"categorical\",\n",
    "    class_names=None,\n",
    "    color_mode=\"rgb\",\n",
    "    batch_size=32,\n",
    "    image_size=(128,128),\n",
    "    shuffle=True,\n",
    "    seed=42,\n",
    "    validation_split=None,\n",
    "    interpolation=\"bilinear\",\n",
    "    follow_links=False,\n",
    "    crop_to_aspect_ratio=False,\n",
    "    pad_to_aspect_ratio=False,\n",
    "    data_format=None,\n",
    "    verbose=True,\n",
    ")"
   ]
  },
  {
   "cell_type": "code",
   "execution_count": 7,
   "id": "12a582d8-7aa3-446b-96f4-2c55ce1f2b5c",
   "metadata": {},
   "outputs": [
    {
     "data": {
      "text/plain": [
       "<_PrefetchDataset element_spec=(TensorSpec(shape=(None, 128, 128, 3), dtype=tf.float32, name=None), TensorSpec(shape=(None, 38), dtype=tf.float32, name=None))>"
      ]
     },
     "execution_count": 7,
     "metadata": {},
     "output_type": "execute_result"
    }
   ],
   "source": [
    "valid_ds"
   ]
  },
  {
   "cell_type": "code",
   "execution_count": 8,
   "id": "75ae1dc4-7c0f-468b-8de5-890eda565bd3",
   "metadata": {},
   "outputs": [
    {
     "name": "stdout",
     "output_type": "stream",
     "text": [
      "tf.Tensor(\n",
      "[[[[ 15.     6.5    7.  ]\n",
      "   [ 26.5   15.5   22.  ]\n",
      "   [ 25.    15.    25.  ]\n",
      "   ...\n",
      "   [137.5  127.5  154.5 ]\n",
      "   [136.75 126.75 153.75]\n",
      "   [137.5  127.5  154.5 ]]\n",
      "\n",
      "  [[ 15.     6.75   7.25]\n",
      "   [ 26.75  17.25  23.75]\n",
      "   [ 26.5   16.25  27.  ]\n",
      "   ...\n",
      "   [138.   128.   155.  ]\n",
      "   [137.5  127.5  154.5 ]\n",
      "   [133.25 123.25 150.25]]\n",
      "\n",
      "  [[ 13.5    7.25   8.  ]\n",
      "   [ 27.75  18.25  24.75]\n",
      "   [ 28.75  18.25  30.25]\n",
      "   ...\n",
      "   [140.   130.   157.  ]\n",
      "   [136.75 126.75 153.75]\n",
      "   [134.25 124.25 151.25]]\n",
      "\n",
      "  ...\n",
      "\n",
      "  [[106.25  97.75 109.25]\n",
      "   [170.25 159.25 173.25]\n",
      "   [170.5  159.5  173.5 ]\n",
      "   ...\n",
      "   [145.25 137.25 161.25]\n",
      "   [140.5  132.5  156.5 ]\n",
      "   [139.75 131.75 155.75]]\n",
      "\n",
      "  [[102.25  92.5  105.25]\n",
      "   [169.   158.   172.  ]\n",
      "   [180.5  169.5  183.5 ]\n",
      "   ...\n",
      "   [143.75 135.75 159.75]\n",
      "   [160.5  152.5  176.5 ]\n",
      "   [138.   130.   154.  ]]\n",
      "\n",
      "  [[ 92.25  82.25  95.25]\n",
      "   [159.75 148.75 162.75]\n",
      "   [198.   188.25 200.25]\n",
      "   ...\n",
      "   [145.   137.   161.  ]\n",
      "   [140.25 132.25 156.25]\n",
      "   [139.75 131.75 155.75]]]\n",
      "\n",
      "\n",
      " [[[112.75 100.75 114.75]\n",
      "   [112.25 100.25 114.25]\n",
      "   [100.5   88.5  102.5 ]\n",
      "   ...\n",
      "   [106.5   95.5  109.5 ]\n",
      "   [ 99.25  88.25 102.25]\n",
      "   [ 97.    86.   100.  ]]\n",
      "\n",
      "  [[129.5  117.5  131.5 ]\n",
      "   [118.5  106.5  120.5 ]\n",
      "   [131.5  119.5  133.5 ]\n",
      "   ...\n",
      "   [100.5   89.5  103.5 ]\n",
      "   [ 99.    88.   102.  ]\n",
      "   [ 93.25  82.25  96.25]]\n",
      "\n",
      "  [[120.   108.   122.  ]\n",
      "   [123.75 111.75 125.75]\n",
      "   [129.25 117.25 131.25]\n",
      "   ...\n",
      "   [103.5   92.5  106.5 ]\n",
      "   [ 95.    84.    98.  ]\n",
      "   [ 98.5   87.5  101.5 ]]\n",
      "\n",
      "  ...\n",
      "\n",
      "  [[155.5  144.5  158.5 ]\n",
      "   [155.25 144.25 158.25]\n",
      "   [163.5  152.5  166.5 ]\n",
      "   ...\n",
      "   [131.5  123.5  138.5 ]\n",
      "   [124.75 116.75 131.75]\n",
      "   [131.5  123.5  138.5 ]]\n",
      "\n",
      "  [[160.5  149.5  163.5 ]\n",
      "   [162.5  151.5  165.5 ]\n",
      "   [163.75 152.75 166.75]\n",
      "   ...\n",
      "   [114.25 106.25 121.25]\n",
      "   [133.25 125.25 140.25]\n",
      "   [128.75 120.75 135.75]]\n",
      "\n",
      "  [[159.25 148.25 162.25]\n",
      "   [162.   151.   165.  ]\n",
      "   [153.75 142.75 156.75]\n",
      "   ...\n",
      "   [125.   117.   132.  ]\n",
      "   [119.25 111.25 126.25]\n",
      "   [140.   132.   147.  ]]]\n",
      "\n",
      "\n",
      " [[[126.75 124.75 137.75]\n",
      "   [121.   119.   132.  ]\n",
      "   [125.5  123.5  136.5 ]\n",
      "   ...\n",
      "   [150.25 148.25 162.25]\n",
      "   [148.5  146.5  160.5 ]\n",
      "   [146.25 144.25 158.25]]\n",
      "\n",
      "  [[117.   115.   128.  ]\n",
      "   [116.5  114.5  127.5 ]\n",
      "   [107.   105.   118.  ]\n",
      "   ...\n",
      "   [152.   150.   164.  ]\n",
      "   [151.   149.   163.  ]\n",
      "   [150.5  148.5  162.5 ]]\n",
      "\n",
      "  [[122.25 120.25 133.25]\n",
      "   [127.   125.   138.  ]\n",
      "   [121.   119.   132.  ]\n",
      "   ...\n",
      "   [158.   156.   170.  ]\n",
      "   [157.25 155.25 169.25]\n",
      "   [159.25 157.25 171.25]]\n",
      "\n",
      "  ...\n",
      "\n",
      "  [[137.5  141.5  153.5 ]\n",
      "   [135.25 139.25 151.25]\n",
      "   [129.25 133.25 145.25]\n",
      "   ...\n",
      "   [180.25 184.25 196.25]\n",
      "   [186.75 190.75 202.75]\n",
      "   [190.   194.   206.  ]]\n",
      "\n",
      "  [[119.75 123.75 135.75]\n",
      "   [128.75 132.75 144.75]\n",
      "   [136.75 140.75 152.75]\n",
      "   ...\n",
      "   [180.25 184.25 196.25]\n",
      "   [186.75 190.75 202.75]\n",
      "   [193.25 197.25 209.25]]\n",
      "\n",
      "  [[128.5  132.5  144.5 ]\n",
      "   [140.   144.   156.  ]\n",
      "   [145.5  149.5  161.5 ]\n",
      "   ...\n",
      "   [173.   177.   189.  ]\n",
      "   [185.5  189.5  201.5 ]\n",
      "   [179.25 183.25 195.25]]]\n",
      "\n",
      "\n",
      " ...\n",
      "\n",
      "\n",
      " [[[  0.     0.     0.  ]\n",
      "   [  0.     0.     0.  ]\n",
      "   [  0.     0.     0.  ]\n",
      "   ...\n",
      "   [  0.     0.     0.  ]\n",
      "   [  0.     0.     0.  ]\n",
      "   [  0.     0.     0.  ]]\n",
      "\n",
      "  [[  0.     0.     0.  ]\n",
      "   [  0.     0.     0.  ]\n",
      "   [  0.     0.     0.  ]\n",
      "   ...\n",
      "   [  0.     0.     0.  ]\n",
      "   [  0.     0.     0.  ]\n",
      "   [  0.     0.     0.  ]]\n",
      "\n",
      "  [[  0.     0.     0.  ]\n",
      "   [  0.     0.     0.  ]\n",
      "   [  0.     0.     0.  ]\n",
      "   ...\n",
      "   [  0.     0.     0.  ]\n",
      "   [  0.     0.     0.  ]\n",
      "   [  0.     0.     0.  ]]\n",
      "\n",
      "  ...\n",
      "\n",
      "  [[  0.     0.     0.  ]\n",
      "   [  0.     0.     0.  ]\n",
      "   [  0.     0.     0.  ]\n",
      "   ...\n",
      "   [  0.     0.     0.  ]\n",
      "   [  0.     0.     0.  ]\n",
      "   [  0.     0.     0.  ]]\n",
      "\n",
      "  [[  0.     0.     0.  ]\n",
      "   [  0.     0.     0.  ]\n",
      "   [  0.     0.     0.  ]\n",
      "   ...\n",
      "   [  0.     0.     0.  ]\n",
      "   [  0.     0.     0.  ]\n",
      "   [  0.     0.     0.  ]]\n",
      "\n",
      "  [[  0.     0.     0.  ]\n",
      "   [  0.     0.     0.  ]\n",
      "   [  0.     0.     0.  ]\n",
      "   ...\n",
      "   [  0.     0.     0.  ]\n",
      "   [  0.     0.     0.  ]\n",
      "   [  0.     0.     0.  ]]]\n",
      "\n",
      "\n",
      " [[[119.5  110.5  113.5 ]\n",
      "   [118.   109.   112.  ]\n",
      "   [115.5  106.5  109.5 ]\n",
      "   ...\n",
      "   [117.75 111.75 113.75]\n",
      "   [116.5  110.5  112.5 ]\n",
      "   [108.75 102.75 104.75]]\n",
      "\n",
      "  [[117.5  108.5  111.5 ]\n",
      "   [115.5  106.5  109.5 ]\n",
      "   [121.5  112.5  115.5 ]\n",
      "   ...\n",
      "   [120.25 114.25 116.25]\n",
      "   [114.   108.   110.  ]\n",
      "   [119.25 113.25 115.25]]\n",
      "\n",
      "  [[122.75 113.75 116.75]\n",
      "   [118.75 109.75 112.75]\n",
      "   [114.5  105.5  108.5 ]\n",
      "   ...\n",
      "   [124.75 118.75 120.75]\n",
      "   [124.5  118.5  120.5 ]\n",
      "   [119.25 113.25 115.25]]\n",
      "\n",
      "  ...\n",
      "\n",
      "  [[172.25 171.25 179.25]\n",
      "   [169.5  168.5  176.5 ]\n",
      "   [169.5  168.5  176.5 ]\n",
      "   ...\n",
      "   [169.75 168.75 176.75]\n",
      "   [170.75 169.75 177.75]\n",
      "   [169.5  168.5  176.5 ]]\n",
      "\n",
      "  [[173.75 172.75 180.75]\n",
      "   [173.   172.   180.  ]\n",
      "   [171.   170.   178.  ]\n",
      "   ...\n",
      "   [170.5  169.5  177.5 ]\n",
      "   [167.75 166.75 174.75]\n",
      "   [168.25 167.25 175.25]]\n",
      "\n",
      "  [[170.   169.   177.  ]\n",
      "   [171.25 170.25 178.25]\n",
      "   [168.   167.   175.  ]\n",
      "   ...\n",
      "   [175.5  174.5  182.5 ]\n",
      "   [170.   169.   177.  ]\n",
      "   [171.   170.   178.  ]]]\n",
      "\n",
      "\n",
      " [[[164.75 158.75 162.75]\n",
      "   [159.5  153.5  157.5 ]\n",
      "   [162.75 156.75 160.75]\n",
      "   ...\n",
      "   [157.5  150.5  157.5 ]\n",
      "   [156.5  149.5  156.5 ]\n",
      "   [154.5  147.5  154.5 ]]\n",
      "\n",
      "  [[167.25 161.25 165.25]\n",
      "   [164.   158.   162.  ]\n",
      "   [165.   159.   163.  ]\n",
      "   ...\n",
      "   [156.25 149.25 156.25]\n",
      "   [155.5  148.5  155.5 ]\n",
      "   [154.25 147.25 154.25]]\n",
      "\n",
      "  [[168.75 162.75 166.75]\n",
      "   [168.25 162.25 166.25]\n",
      "   [165.75 159.75 163.75]\n",
      "   ...\n",
      "   [156.75 149.75 156.75]\n",
      "   [156.75 149.75 156.75]\n",
      "   [156.   149.   156.  ]]\n",
      "\n",
      "  ...\n",
      "\n",
      "  [[170.75 164.75 176.75]\n",
      "   [172.25 166.25 178.25]\n",
      "   [170.   164.   176.  ]\n",
      "   ...\n",
      "   [129.   118.   134.  ]\n",
      "   [127.5  116.5  132.5 ]\n",
      "   [124.5  113.5  129.5 ]]\n",
      "\n",
      "  [[168.75 162.75 174.75]\n",
      "   [169.5  163.5  175.5 ]\n",
      "   [171.75 165.75 177.75]\n",
      "   ...\n",
      "   [123.75 112.75 128.75]\n",
      "   [121.75 110.75 126.75]\n",
      "   [122.25 111.25 127.25]]\n",
      "\n",
      "  [[165.5  159.5  171.5 ]\n",
      "   [165.5  159.5  171.5 ]\n",
      "   [171.25 165.25 177.25]\n",
      "   ...\n",
      "   [126.25 115.25 131.25]\n",
      "   [125.   114.   130.  ]\n",
      "   [121.25 110.25 126.25]]]], shape=(32, 128, 128, 3), dtype=float32) (32, 128, 128, 3)\n",
      "tf.Tensor(\n",
      "[[1. 0. 0. ... 0. 0. 0.]\n",
      " [0. 0. 0. ... 0. 1. 0.]\n",
      " [0. 0. 0. ... 0. 0. 0.]\n",
      " ...\n",
      " [0. 0. 0. ... 0. 0. 0.]\n",
      " [0. 0. 0. ... 0. 0. 0.]\n",
      " [0. 0. 0. ... 0. 0. 0.]], shape=(32, 38), dtype=float32) (32, 38)\n"
     ]
    }
   ],
   "source": [
    "for x,y in valid_ds:\n",
    "    print(x,x.shape)\n",
    "    print(y,y.shape)\n",
    "    break"
   ]
  },
  {
   "cell_type": "markdown",
   "id": "fd885a96-5bdf-41aa-94a0-5e2f0b617aee",
   "metadata": {},
   "source": [
    "# Build the Model"
   ]
  },
  {
   "cell_type": "code",
   "execution_count": 9,
   "id": "eb8d0130-6217-4eb2-8db2-5f9510ebb824",
   "metadata": {},
   "outputs": [],
   "source": [
    "model = tf.keras.models.Sequential()"
   ]
  },
  {
   "cell_type": "code",
   "execution_count": 10,
   "id": "f6a8d8a1-e013-48e9-935f-221996791968",
   "metadata": {},
   "outputs": [
    {
     "name": "stderr",
     "output_type": "stream",
     "text": [
      "C:\\Users\\ANIKET\\anaconda3\\envs\\deep_learning\\Lib\\site-packages\\keras\\src\\layers\\convolutional\\base_conv.py:107: UserWarning: Do not pass an `input_shape`/`input_dim` argument to a layer. When using Sequential models, prefer using an `Input(shape)` object as the first layer in the model instead.\n",
      "  super().__init__(activity_regularizer=activity_regularizer, **kwargs)\n"
     ]
    }
   ],
   "source": [
    "model.add(tf.keras.layers.Conv2D(filters=32,kernel_size=3,padding='same',activation='relu', input_shape=[128,128,3]))\n",
    "model.add(tf.keras.layers.Conv2D(filters=32,kernel_size=3,padding='same',activation='relu'))\n",
    "model.add(tf.keras.layers.MaxPooling2D())"
   ]
  },
  {
   "cell_type": "code",
   "execution_count": 11,
   "id": "1e7124ef-b9c2-41e3-964b-4635c11bfa83",
   "metadata": {},
   "outputs": [],
   "source": [
    "model.add(tf.keras.layers.Conv2D(filters=64,kernel_size=3,padding='same',activation='relu'))\n",
    "model.add(tf.keras.layers.Conv2D(filters=64,kernel_size=3,padding='same',activation='relu'))\n",
    "model.add(tf.keras.layers.MaxPooling2D())"
   ]
  },
  {
   "cell_type": "code",
   "execution_count": 12,
   "id": "3bd6a86d-85ce-4742-aabf-30a2e0fee74f",
   "metadata": {},
   "outputs": [],
   "source": [
    "model.add(tf.keras.layers.Conv2D(filters=128,kernel_size=3,padding='same',activation='relu'))\n",
    "model.add(tf.keras.layers.Conv2D(filters=128,kernel_size=3,padding='same',activation='relu'))\n",
    "model.add(tf.keras.layers.MaxPooling2D())"
   ]
  },
  {
   "cell_type": "code",
   "execution_count": 13,
   "id": "8c4296b8-2e96-4aee-a55a-534c97b0730d",
   "metadata": {},
   "outputs": [],
   "source": [
    "model.add(tf.keras.layers.Conv2D(filters=256,kernel_size=3,padding='same',activation='relu'))\n",
    "model.add(tf.keras.layers.Conv2D(filters=256,kernel_size=3,padding='same',activation='relu'))\n",
    "model.add(tf.keras.layers.MaxPooling2D())"
   ]
  },
  {
   "cell_type": "code",
   "execution_count": 14,
   "id": "bd7aea29-23a9-4301-b145-27a082612c0d",
   "metadata": {},
   "outputs": [
    {
     "data": {
      "text/html": [
       "<pre style=\"white-space:pre;overflow-x:auto;line-height:normal;font-family:Menlo,'DejaVu Sans Mono',consolas,'Courier New',monospace\"><span style=\"font-weight: bold\">Model: \"sequential\"</span>\n",
       "</pre>\n"
      ],
      "text/plain": [
       "\u001b[1mModel: \"sequential\"\u001b[0m\n"
      ]
     },
     "metadata": {},
     "output_type": "display_data"
    },
    {
     "data": {
      "text/html": [
       "<pre style=\"white-space:pre;overflow-x:auto;line-height:normal;font-family:Menlo,'DejaVu Sans Mono',consolas,'Courier New',monospace\">┏━━━━━━━━━━━━━━━━━━━━━━━━━━━━━━━━━┳━━━━━━━━━━━━━━━━━━━━━━━━┳━━━━━━━━━━━━━━━┓\n",
       "┃<span style=\"font-weight: bold\"> Layer (type)                    </span>┃<span style=\"font-weight: bold\"> Output Shape           </span>┃<span style=\"font-weight: bold\">       Param # </span>┃\n",
       "┡━━━━━━━━━━━━━━━━━━━━━━━━━━━━━━━━━╇━━━━━━━━━━━━━━━━━━━━━━━━╇━━━━━━━━━━━━━━━┩\n",
       "│ conv2d (<span style=\"color: #0087ff; text-decoration-color: #0087ff\">Conv2D</span>)                 │ (<span style=\"color: #00d7ff; text-decoration-color: #00d7ff\">None</span>, <span style=\"color: #00af00; text-decoration-color: #00af00\">128</span>, <span style=\"color: #00af00; text-decoration-color: #00af00\">128</span>, <span style=\"color: #00af00; text-decoration-color: #00af00\">32</span>)   │           <span style=\"color: #00af00; text-decoration-color: #00af00\">896</span> │\n",
       "├─────────────────────────────────┼────────────────────────┼───────────────┤\n",
       "│ conv2d_1 (<span style=\"color: #0087ff; text-decoration-color: #0087ff\">Conv2D</span>)               │ (<span style=\"color: #00d7ff; text-decoration-color: #00d7ff\">None</span>, <span style=\"color: #00af00; text-decoration-color: #00af00\">128</span>, <span style=\"color: #00af00; text-decoration-color: #00af00\">128</span>, <span style=\"color: #00af00; text-decoration-color: #00af00\">32</span>)   │         <span style=\"color: #00af00; text-decoration-color: #00af00\">9,248</span> │\n",
       "├─────────────────────────────────┼────────────────────────┼───────────────┤\n",
       "│ max_pooling2d (<span style=\"color: #0087ff; text-decoration-color: #0087ff\">MaxPooling2D</span>)    │ (<span style=\"color: #00d7ff; text-decoration-color: #00d7ff\">None</span>, <span style=\"color: #00af00; text-decoration-color: #00af00\">64</span>, <span style=\"color: #00af00; text-decoration-color: #00af00\">64</span>, <span style=\"color: #00af00; text-decoration-color: #00af00\">32</span>)     │             <span style=\"color: #00af00; text-decoration-color: #00af00\">0</span> │\n",
       "├─────────────────────────────────┼────────────────────────┼───────────────┤\n",
       "│ conv2d_2 (<span style=\"color: #0087ff; text-decoration-color: #0087ff\">Conv2D</span>)               │ (<span style=\"color: #00d7ff; text-decoration-color: #00d7ff\">None</span>, <span style=\"color: #00af00; text-decoration-color: #00af00\">64</span>, <span style=\"color: #00af00; text-decoration-color: #00af00\">64</span>, <span style=\"color: #00af00; text-decoration-color: #00af00\">64</span>)     │        <span style=\"color: #00af00; text-decoration-color: #00af00\">18,496</span> │\n",
       "├─────────────────────────────────┼────────────────────────┼───────────────┤\n",
       "│ conv2d_3 (<span style=\"color: #0087ff; text-decoration-color: #0087ff\">Conv2D</span>)               │ (<span style=\"color: #00d7ff; text-decoration-color: #00d7ff\">None</span>, <span style=\"color: #00af00; text-decoration-color: #00af00\">64</span>, <span style=\"color: #00af00; text-decoration-color: #00af00\">64</span>, <span style=\"color: #00af00; text-decoration-color: #00af00\">64</span>)     │        <span style=\"color: #00af00; text-decoration-color: #00af00\">36,928</span> │\n",
       "├─────────────────────────────────┼────────────────────────┼───────────────┤\n",
       "│ max_pooling2d_1 (<span style=\"color: #0087ff; text-decoration-color: #0087ff\">MaxPooling2D</span>)  │ (<span style=\"color: #00d7ff; text-decoration-color: #00d7ff\">None</span>, <span style=\"color: #00af00; text-decoration-color: #00af00\">32</span>, <span style=\"color: #00af00; text-decoration-color: #00af00\">32</span>, <span style=\"color: #00af00; text-decoration-color: #00af00\">64</span>)     │             <span style=\"color: #00af00; text-decoration-color: #00af00\">0</span> │\n",
       "├─────────────────────────────────┼────────────────────────┼───────────────┤\n",
       "│ conv2d_4 (<span style=\"color: #0087ff; text-decoration-color: #0087ff\">Conv2D</span>)               │ (<span style=\"color: #00d7ff; text-decoration-color: #00d7ff\">None</span>, <span style=\"color: #00af00; text-decoration-color: #00af00\">32</span>, <span style=\"color: #00af00; text-decoration-color: #00af00\">32</span>, <span style=\"color: #00af00; text-decoration-color: #00af00\">128</span>)    │        <span style=\"color: #00af00; text-decoration-color: #00af00\">73,856</span> │\n",
       "├─────────────────────────────────┼────────────────────────┼───────────────┤\n",
       "│ conv2d_5 (<span style=\"color: #0087ff; text-decoration-color: #0087ff\">Conv2D</span>)               │ (<span style=\"color: #00d7ff; text-decoration-color: #00d7ff\">None</span>, <span style=\"color: #00af00; text-decoration-color: #00af00\">32</span>, <span style=\"color: #00af00; text-decoration-color: #00af00\">32</span>, <span style=\"color: #00af00; text-decoration-color: #00af00\">128</span>)    │       <span style=\"color: #00af00; text-decoration-color: #00af00\">147,584</span> │\n",
       "├─────────────────────────────────┼────────────────────────┼───────────────┤\n",
       "│ max_pooling2d_2 (<span style=\"color: #0087ff; text-decoration-color: #0087ff\">MaxPooling2D</span>)  │ (<span style=\"color: #00d7ff; text-decoration-color: #00d7ff\">None</span>, <span style=\"color: #00af00; text-decoration-color: #00af00\">16</span>, <span style=\"color: #00af00; text-decoration-color: #00af00\">16</span>, <span style=\"color: #00af00; text-decoration-color: #00af00\">128</span>)    │             <span style=\"color: #00af00; text-decoration-color: #00af00\">0</span> │\n",
       "├─────────────────────────────────┼────────────────────────┼───────────────┤\n",
       "│ conv2d_6 (<span style=\"color: #0087ff; text-decoration-color: #0087ff\">Conv2D</span>)               │ (<span style=\"color: #00d7ff; text-decoration-color: #00d7ff\">None</span>, <span style=\"color: #00af00; text-decoration-color: #00af00\">16</span>, <span style=\"color: #00af00; text-decoration-color: #00af00\">16</span>, <span style=\"color: #00af00; text-decoration-color: #00af00\">256</span>)    │       <span style=\"color: #00af00; text-decoration-color: #00af00\">295,168</span> │\n",
       "├─────────────────────────────────┼────────────────────────┼───────────────┤\n",
       "│ conv2d_7 (<span style=\"color: #0087ff; text-decoration-color: #0087ff\">Conv2D</span>)               │ (<span style=\"color: #00d7ff; text-decoration-color: #00d7ff\">None</span>, <span style=\"color: #00af00; text-decoration-color: #00af00\">16</span>, <span style=\"color: #00af00; text-decoration-color: #00af00\">16</span>, <span style=\"color: #00af00; text-decoration-color: #00af00\">256</span>)    │       <span style=\"color: #00af00; text-decoration-color: #00af00\">590,080</span> │\n",
       "├─────────────────────────────────┼────────────────────────┼───────────────┤\n",
       "│ max_pooling2d_3 (<span style=\"color: #0087ff; text-decoration-color: #0087ff\">MaxPooling2D</span>)  │ (<span style=\"color: #00d7ff; text-decoration-color: #00d7ff\">None</span>, <span style=\"color: #00af00; text-decoration-color: #00af00\">8</span>, <span style=\"color: #00af00; text-decoration-color: #00af00\">8</span>, <span style=\"color: #00af00; text-decoration-color: #00af00\">256</span>)      │             <span style=\"color: #00af00; text-decoration-color: #00af00\">0</span> │\n",
       "└─────────────────────────────────┴────────────────────────┴───────────────┘\n",
       "</pre>\n"
      ],
      "text/plain": [
       "┏━━━━━━━━━━━━━━━━━━━━━━━━━━━━━━━━━┳━━━━━━━━━━━━━━━━━━━━━━━━┳━━━━━━━━━━━━━━━┓\n",
       "┃\u001b[1m \u001b[0m\u001b[1mLayer (type)                   \u001b[0m\u001b[1m \u001b[0m┃\u001b[1m \u001b[0m\u001b[1mOutput Shape          \u001b[0m\u001b[1m \u001b[0m┃\u001b[1m \u001b[0m\u001b[1m      Param #\u001b[0m\u001b[1m \u001b[0m┃\n",
       "┡━━━━━━━━━━━━━━━━━━━━━━━━━━━━━━━━━╇━━━━━━━━━━━━━━━━━━━━━━━━╇━━━━━━━━━━━━━━━┩\n",
       "│ conv2d (\u001b[38;5;33mConv2D\u001b[0m)                 │ (\u001b[38;5;45mNone\u001b[0m, \u001b[38;5;34m128\u001b[0m, \u001b[38;5;34m128\u001b[0m, \u001b[38;5;34m32\u001b[0m)   │           \u001b[38;5;34m896\u001b[0m │\n",
       "├─────────────────────────────────┼────────────────────────┼───────────────┤\n",
       "│ conv2d_1 (\u001b[38;5;33mConv2D\u001b[0m)               │ (\u001b[38;5;45mNone\u001b[0m, \u001b[38;5;34m128\u001b[0m, \u001b[38;5;34m128\u001b[0m, \u001b[38;5;34m32\u001b[0m)   │         \u001b[38;5;34m9,248\u001b[0m │\n",
       "├─────────────────────────────────┼────────────────────────┼───────────────┤\n",
       "│ max_pooling2d (\u001b[38;5;33mMaxPooling2D\u001b[0m)    │ (\u001b[38;5;45mNone\u001b[0m, \u001b[38;5;34m64\u001b[0m, \u001b[38;5;34m64\u001b[0m, \u001b[38;5;34m32\u001b[0m)     │             \u001b[38;5;34m0\u001b[0m │\n",
       "├─────────────────────────────────┼────────────────────────┼───────────────┤\n",
       "│ conv2d_2 (\u001b[38;5;33mConv2D\u001b[0m)               │ (\u001b[38;5;45mNone\u001b[0m, \u001b[38;5;34m64\u001b[0m, \u001b[38;5;34m64\u001b[0m, \u001b[38;5;34m64\u001b[0m)     │        \u001b[38;5;34m18,496\u001b[0m │\n",
       "├─────────────────────────────────┼────────────────────────┼───────────────┤\n",
       "│ conv2d_3 (\u001b[38;5;33mConv2D\u001b[0m)               │ (\u001b[38;5;45mNone\u001b[0m, \u001b[38;5;34m64\u001b[0m, \u001b[38;5;34m64\u001b[0m, \u001b[38;5;34m64\u001b[0m)     │        \u001b[38;5;34m36,928\u001b[0m │\n",
       "├─────────────────────────────────┼────────────────────────┼───────────────┤\n",
       "│ max_pooling2d_1 (\u001b[38;5;33mMaxPooling2D\u001b[0m)  │ (\u001b[38;5;45mNone\u001b[0m, \u001b[38;5;34m32\u001b[0m, \u001b[38;5;34m32\u001b[0m, \u001b[38;5;34m64\u001b[0m)     │             \u001b[38;5;34m0\u001b[0m │\n",
       "├─────────────────────────────────┼────────────────────────┼───────────────┤\n",
       "│ conv2d_4 (\u001b[38;5;33mConv2D\u001b[0m)               │ (\u001b[38;5;45mNone\u001b[0m, \u001b[38;5;34m32\u001b[0m, \u001b[38;5;34m32\u001b[0m, \u001b[38;5;34m128\u001b[0m)    │        \u001b[38;5;34m73,856\u001b[0m │\n",
       "├─────────────────────────────────┼────────────────────────┼───────────────┤\n",
       "│ conv2d_5 (\u001b[38;5;33mConv2D\u001b[0m)               │ (\u001b[38;5;45mNone\u001b[0m, \u001b[38;5;34m32\u001b[0m, \u001b[38;5;34m32\u001b[0m, \u001b[38;5;34m128\u001b[0m)    │       \u001b[38;5;34m147,584\u001b[0m │\n",
       "├─────────────────────────────────┼────────────────────────┼───────────────┤\n",
       "│ max_pooling2d_2 (\u001b[38;5;33mMaxPooling2D\u001b[0m)  │ (\u001b[38;5;45mNone\u001b[0m, \u001b[38;5;34m16\u001b[0m, \u001b[38;5;34m16\u001b[0m, \u001b[38;5;34m128\u001b[0m)    │             \u001b[38;5;34m0\u001b[0m │\n",
       "├─────────────────────────────────┼────────────────────────┼───────────────┤\n",
       "│ conv2d_6 (\u001b[38;5;33mConv2D\u001b[0m)               │ (\u001b[38;5;45mNone\u001b[0m, \u001b[38;5;34m16\u001b[0m, \u001b[38;5;34m16\u001b[0m, \u001b[38;5;34m256\u001b[0m)    │       \u001b[38;5;34m295,168\u001b[0m │\n",
       "├─────────────────────────────────┼────────────────────────┼───────────────┤\n",
       "│ conv2d_7 (\u001b[38;5;33mConv2D\u001b[0m)               │ (\u001b[38;5;45mNone\u001b[0m, \u001b[38;5;34m16\u001b[0m, \u001b[38;5;34m16\u001b[0m, \u001b[38;5;34m256\u001b[0m)    │       \u001b[38;5;34m590,080\u001b[0m │\n",
       "├─────────────────────────────────┼────────────────────────┼───────────────┤\n",
       "│ max_pooling2d_3 (\u001b[38;5;33mMaxPooling2D\u001b[0m)  │ (\u001b[38;5;45mNone\u001b[0m, \u001b[38;5;34m8\u001b[0m, \u001b[38;5;34m8\u001b[0m, \u001b[38;5;34m256\u001b[0m)      │             \u001b[38;5;34m0\u001b[0m │\n",
       "└─────────────────────────────────┴────────────────────────┴───────────────┘\n"
      ]
     },
     "metadata": {},
     "output_type": "display_data"
    },
    {
     "data": {
      "text/html": [
       "<pre style=\"white-space:pre;overflow-x:auto;line-height:normal;font-family:Menlo,'DejaVu Sans Mono',consolas,'Courier New',monospace\"><span style=\"font-weight: bold\"> Total params: </span><span style=\"color: #00af00; text-decoration-color: #00af00\">1,172,256</span> (4.47 MB)\n",
       "</pre>\n"
      ],
      "text/plain": [
       "\u001b[1m Total params: \u001b[0m\u001b[38;5;34m1,172,256\u001b[0m (4.47 MB)\n"
      ]
     },
     "metadata": {},
     "output_type": "display_data"
    },
    {
     "data": {
      "text/html": [
       "<pre style=\"white-space:pre;overflow-x:auto;line-height:normal;font-family:Menlo,'DejaVu Sans Mono',consolas,'Courier New',monospace\"><span style=\"font-weight: bold\"> Trainable params: </span><span style=\"color: #00af00; text-decoration-color: #00af00\">1,172,256</span> (4.47 MB)\n",
       "</pre>\n"
      ],
      "text/plain": [
       "\u001b[1m Trainable params: \u001b[0m\u001b[38;5;34m1,172,256\u001b[0m (4.47 MB)\n"
      ]
     },
     "metadata": {},
     "output_type": "display_data"
    },
    {
     "data": {
      "text/html": [
       "<pre style=\"white-space:pre;overflow-x:auto;line-height:normal;font-family:Menlo,'DejaVu Sans Mono',consolas,'Courier New',monospace\"><span style=\"font-weight: bold\"> Non-trainable params: </span><span style=\"color: #00af00; text-decoration-color: #00af00\">0</span> (0.00 B)\n",
       "</pre>\n"
      ],
      "text/plain": [
       "\u001b[1m Non-trainable params: \u001b[0m\u001b[38;5;34m0\u001b[0m (0.00 B)\n"
      ]
     },
     "metadata": {},
     "output_type": "display_data"
    }
   ],
   "source": [
    "model.summary()"
   ]
  },
  {
   "cell_type": "code",
   "execution_count": 15,
   "id": "a5d4f000-6789-4454-a28e-ad87d0b246ad",
   "metadata": {},
   "outputs": [],
   "source": [
    "model.add(tf.keras.layers.Dropout(0.2))\n",
    "model.add(tf.keras.layers.Flatten())\n",
    "model.add(tf.keras.layers.Dense(units=400,activation='relu'))\n",
    "model.add(tf.keras.layers.Dropout(0.5))\n",
    "model.add(tf.keras.layers.Dense(units=38,activation='softmax'))"
   ]
  },
  {
   "cell_type": "code",
   "execution_count": 16,
   "id": "4b474e37-b192-43f3-a9e9-3a995adc6838",
   "metadata": {},
   "outputs": [
    {
     "data": {
      "text/html": [
       "<pre style=\"white-space:pre;overflow-x:auto;line-height:normal;font-family:Menlo,'DejaVu Sans Mono',consolas,'Courier New',monospace\"><span style=\"font-weight: bold\">Model: \"sequential\"</span>\n",
       "</pre>\n"
      ],
      "text/plain": [
       "\u001b[1mModel: \"sequential\"\u001b[0m\n"
      ]
     },
     "metadata": {},
     "output_type": "display_data"
    },
    {
     "data": {
      "text/html": [
       "<pre style=\"white-space:pre;overflow-x:auto;line-height:normal;font-family:Menlo,'DejaVu Sans Mono',consolas,'Courier New',monospace\">┏━━━━━━━━━━━━━━━━━━━━━━━━━━━━━━━━━┳━━━━━━━━━━━━━━━━━━━━━━━━┳━━━━━━━━━━━━━━━┓\n",
       "┃<span style=\"font-weight: bold\"> Layer (type)                    </span>┃<span style=\"font-weight: bold\"> Output Shape           </span>┃<span style=\"font-weight: bold\">       Param # </span>┃\n",
       "┡━━━━━━━━━━━━━━━━━━━━━━━━━━━━━━━━━╇━━━━━━━━━━━━━━━━━━━━━━━━╇━━━━━━━━━━━━━━━┩\n",
       "│ conv2d (<span style=\"color: #0087ff; text-decoration-color: #0087ff\">Conv2D</span>)                 │ (<span style=\"color: #00d7ff; text-decoration-color: #00d7ff\">None</span>, <span style=\"color: #00af00; text-decoration-color: #00af00\">128</span>, <span style=\"color: #00af00; text-decoration-color: #00af00\">128</span>, <span style=\"color: #00af00; text-decoration-color: #00af00\">32</span>)   │           <span style=\"color: #00af00; text-decoration-color: #00af00\">896</span> │\n",
       "├─────────────────────────────────┼────────────────────────┼───────────────┤\n",
       "│ conv2d_1 (<span style=\"color: #0087ff; text-decoration-color: #0087ff\">Conv2D</span>)               │ (<span style=\"color: #00d7ff; text-decoration-color: #00d7ff\">None</span>, <span style=\"color: #00af00; text-decoration-color: #00af00\">128</span>, <span style=\"color: #00af00; text-decoration-color: #00af00\">128</span>, <span style=\"color: #00af00; text-decoration-color: #00af00\">32</span>)   │         <span style=\"color: #00af00; text-decoration-color: #00af00\">9,248</span> │\n",
       "├─────────────────────────────────┼────────────────────────┼───────────────┤\n",
       "│ max_pooling2d (<span style=\"color: #0087ff; text-decoration-color: #0087ff\">MaxPooling2D</span>)    │ (<span style=\"color: #00d7ff; text-decoration-color: #00d7ff\">None</span>, <span style=\"color: #00af00; text-decoration-color: #00af00\">64</span>, <span style=\"color: #00af00; text-decoration-color: #00af00\">64</span>, <span style=\"color: #00af00; text-decoration-color: #00af00\">32</span>)     │             <span style=\"color: #00af00; text-decoration-color: #00af00\">0</span> │\n",
       "├─────────────────────────────────┼────────────────────────┼───────────────┤\n",
       "│ conv2d_2 (<span style=\"color: #0087ff; text-decoration-color: #0087ff\">Conv2D</span>)               │ (<span style=\"color: #00d7ff; text-decoration-color: #00d7ff\">None</span>, <span style=\"color: #00af00; text-decoration-color: #00af00\">64</span>, <span style=\"color: #00af00; text-decoration-color: #00af00\">64</span>, <span style=\"color: #00af00; text-decoration-color: #00af00\">64</span>)     │        <span style=\"color: #00af00; text-decoration-color: #00af00\">18,496</span> │\n",
       "├─────────────────────────────────┼────────────────────────┼───────────────┤\n",
       "│ conv2d_3 (<span style=\"color: #0087ff; text-decoration-color: #0087ff\">Conv2D</span>)               │ (<span style=\"color: #00d7ff; text-decoration-color: #00d7ff\">None</span>, <span style=\"color: #00af00; text-decoration-color: #00af00\">64</span>, <span style=\"color: #00af00; text-decoration-color: #00af00\">64</span>, <span style=\"color: #00af00; text-decoration-color: #00af00\">64</span>)     │        <span style=\"color: #00af00; text-decoration-color: #00af00\">36,928</span> │\n",
       "├─────────────────────────────────┼────────────────────────┼───────────────┤\n",
       "│ max_pooling2d_1 (<span style=\"color: #0087ff; text-decoration-color: #0087ff\">MaxPooling2D</span>)  │ (<span style=\"color: #00d7ff; text-decoration-color: #00d7ff\">None</span>, <span style=\"color: #00af00; text-decoration-color: #00af00\">32</span>, <span style=\"color: #00af00; text-decoration-color: #00af00\">32</span>, <span style=\"color: #00af00; text-decoration-color: #00af00\">64</span>)     │             <span style=\"color: #00af00; text-decoration-color: #00af00\">0</span> │\n",
       "├─────────────────────────────────┼────────────────────────┼───────────────┤\n",
       "│ conv2d_4 (<span style=\"color: #0087ff; text-decoration-color: #0087ff\">Conv2D</span>)               │ (<span style=\"color: #00d7ff; text-decoration-color: #00d7ff\">None</span>, <span style=\"color: #00af00; text-decoration-color: #00af00\">32</span>, <span style=\"color: #00af00; text-decoration-color: #00af00\">32</span>, <span style=\"color: #00af00; text-decoration-color: #00af00\">128</span>)    │        <span style=\"color: #00af00; text-decoration-color: #00af00\">73,856</span> │\n",
       "├─────────────────────────────────┼────────────────────────┼───────────────┤\n",
       "│ conv2d_5 (<span style=\"color: #0087ff; text-decoration-color: #0087ff\">Conv2D</span>)               │ (<span style=\"color: #00d7ff; text-decoration-color: #00d7ff\">None</span>, <span style=\"color: #00af00; text-decoration-color: #00af00\">32</span>, <span style=\"color: #00af00; text-decoration-color: #00af00\">32</span>, <span style=\"color: #00af00; text-decoration-color: #00af00\">128</span>)    │       <span style=\"color: #00af00; text-decoration-color: #00af00\">147,584</span> │\n",
       "├─────────────────────────────────┼────────────────────────┼───────────────┤\n",
       "│ max_pooling2d_2 (<span style=\"color: #0087ff; text-decoration-color: #0087ff\">MaxPooling2D</span>)  │ (<span style=\"color: #00d7ff; text-decoration-color: #00d7ff\">None</span>, <span style=\"color: #00af00; text-decoration-color: #00af00\">16</span>, <span style=\"color: #00af00; text-decoration-color: #00af00\">16</span>, <span style=\"color: #00af00; text-decoration-color: #00af00\">128</span>)    │             <span style=\"color: #00af00; text-decoration-color: #00af00\">0</span> │\n",
       "├─────────────────────────────────┼────────────────────────┼───────────────┤\n",
       "│ conv2d_6 (<span style=\"color: #0087ff; text-decoration-color: #0087ff\">Conv2D</span>)               │ (<span style=\"color: #00d7ff; text-decoration-color: #00d7ff\">None</span>, <span style=\"color: #00af00; text-decoration-color: #00af00\">16</span>, <span style=\"color: #00af00; text-decoration-color: #00af00\">16</span>, <span style=\"color: #00af00; text-decoration-color: #00af00\">256</span>)    │       <span style=\"color: #00af00; text-decoration-color: #00af00\">295,168</span> │\n",
       "├─────────────────────────────────┼────────────────────────┼───────────────┤\n",
       "│ conv2d_7 (<span style=\"color: #0087ff; text-decoration-color: #0087ff\">Conv2D</span>)               │ (<span style=\"color: #00d7ff; text-decoration-color: #00d7ff\">None</span>, <span style=\"color: #00af00; text-decoration-color: #00af00\">16</span>, <span style=\"color: #00af00; text-decoration-color: #00af00\">16</span>, <span style=\"color: #00af00; text-decoration-color: #00af00\">256</span>)    │       <span style=\"color: #00af00; text-decoration-color: #00af00\">590,080</span> │\n",
       "├─────────────────────────────────┼────────────────────────┼───────────────┤\n",
       "│ max_pooling2d_3 (<span style=\"color: #0087ff; text-decoration-color: #0087ff\">MaxPooling2D</span>)  │ (<span style=\"color: #00d7ff; text-decoration-color: #00d7ff\">None</span>, <span style=\"color: #00af00; text-decoration-color: #00af00\">8</span>, <span style=\"color: #00af00; text-decoration-color: #00af00\">8</span>, <span style=\"color: #00af00; text-decoration-color: #00af00\">256</span>)      │             <span style=\"color: #00af00; text-decoration-color: #00af00\">0</span> │\n",
       "├─────────────────────────────────┼────────────────────────┼───────────────┤\n",
       "│ dropout (<span style=\"color: #0087ff; text-decoration-color: #0087ff\">Dropout</span>)               │ (<span style=\"color: #00d7ff; text-decoration-color: #00d7ff\">None</span>, <span style=\"color: #00af00; text-decoration-color: #00af00\">8</span>, <span style=\"color: #00af00; text-decoration-color: #00af00\">8</span>, <span style=\"color: #00af00; text-decoration-color: #00af00\">256</span>)      │             <span style=\"color: #00af00; text-decoration-color: #00af00\">0</span> │\n",
       "├─────────────────────────────────┼────────────────────────┼───────────────┤\n",
       "│ flatten (<span style=\"color: #0087ff; text-decoration-color: #0087ff\">Flatten</span>)               │ (<span style=\"color: #00d7ff; text-decoration-color: #00d7ff\">None</span>, <span style=\"color: #00af00; text-decoration-color: #00af00\">16384</span>)          │             <span style=\"color: #00af00; text-decoration-color: #00af00\">0</span> │\n",
       "├─────────────────────────────────┼────────────────────────┼───────────────┤\n",
       "│ dense (<span style=\"color: #0087ff; text-decoration-color: #0087ff\">Dense</span>)                   │ (<span style=\"color: #00d7ff; text-decoration-color: #00d7ff\">None</span>, <span style=\"color: #00af00; text-decoration-color: #00af00\">400</span>)            │     <span style=\"color: #00af00; text-decoration-color: #00af00\">6,554,000</span> │\n",
       "├─────────────────────────────────┼────────────────────────┼───────────────┤\n",
       "│ dropout_1 (<span style=\"color: #0087ff; text-decoration-color: #0087ff\">Dropout</span>)             │ (<span style=\"color: #00d7ff; text-decoration-color: #00d7ff\">None</span>, <span style=\"color: #00af00; text-decoration-color: #00af00\">400</span>)            │             <span style=\"color: #00af00; text-decoration-color: #00af00\">0</span> │\n",
       "├─────────────────────────────────┼────────────────────────┼───────────────┤\n",
       "│ dense_1 (<span style=\"color: #0087ff; text-decoration-color: #0087ff\">Dense</span>)                 │ (<span style=\"color: #00d7ff; text-decoration-color: #00d7ff\">None</span>, <span style=\"color: #00af00; text-decoration-color: #00af00\">38</span>)             │        <span style=\"color: #00af00; text-decoration-color: #00af00\">15,238</span> │\n",
       "└─────────────────────────────────┴────────────────────────┴───────────────┘\n",
       "</pre>\n"
      ],
      "text/plain": [
       "┏━━━━━━━━━━━━━━━━━━━━━━━━━━━━━━━━━┳━━━━━━━━━━━━━━━━━━━━━━━━┳━━━━━━━━━━━━━━━┓\n",
       "┃\u001b[1m \u001b[0m\u001b[1mLayer (type)                   \u001b[0m\u001b[1m \u001b[0m┃\u001b[1m \u001b[0m\u001b[1mOutput Shape          \u001b[0m\u001b[1m \u001b[0m┃\u001b[1m \u001b[0m\u001b[1m      Param #\u001b[0m\u001b[1m \u001b[0m┃\n",
       "┡━━━━━━━━━━━━━━━━━━━━━━━━━━━━━━━━━╇━━━━━━━━━━━━━━━━━━━━━━━━╇━━━━━━━━━━━━━━━┩\n",
       "│ conv2d (\u001b[38;5;33mConv2D\u001b[0m)                 │ (\u001b[38;5;45mNone\u001b[0m, \u001b[38;5;34m128\u001b[0m, \u001b[38;5;34m128\u001b[0m, \u001b[38;5;34m32\u001b[0m)   │           \u001b[38;5;34m896\u001b[0m │\n",
       "├─────────────────────────────────┼────────────────────────┼───────────────┤\n",
       "│ conv2d_1 (\u001b[38;5;33mConv2D\u001b[0m)               │ (\u001b[38;5;45mNone\u001b[0m, \u001b[38;5;34m128\u001b[0m, \u001b[38;5;34m128\u001b[0m, \u001b[38;5;34m32\u001b[0m)   │         \u001b[38;5;34m9,248\u001b[0m │\n",
       "├─────────────────────────────────┼────────────────────────┼───────────────┤\n",
       "│ max_pooling2d (\u001b[38;5;33mMaxPooling2D\u001b[0m)    │ (\u001b[38;5;45mNone\u001b[0m, \u001b[38;5;34m64\u001b[0m, \u001b[38;5;34m64\u001b[0m, \u001b[38;5;34m32\u001b[0m)     │             \u001b[38;5;34m0\u001b[0m │\n",
       "├─────────────────────────────────┼────────────────────────┼───────────────┤\n",
       "│ conv2d_2 (\u001b[38;5;33mConv2D\u001b[0m)               │ (\u001b[38;5;45mNone\u001b[0m, \u001b[38;5;34m64\u001b[0m, \u001b[38;5;34m64\u001b[0m, \u001b[38;5;34m64\u001b[0m)     │        \u001b[38;5;34m18,496\u001b[0m │\n",
       "├─────────────────────────────────┼────────────────────────┼───────────────┤\n",
       "│ conv2d_3 (\u001b[38;5;33mConv2D\u001b[0m)               │ (\u001b[38;5;45mNone\u001b[0m, \u001b[38;5;34m64\u001b[0m, \u001b[38;5;34m64\u001b[0m, \u001b[38;5;34m64\u001b[0m)     │        \u001b[38;5;34m36,928\u001b[0m │\n",
       "├─────────────────────────────────┼────────────────────────┼───────────────┤\n",
       "│ max_pooling2d_1 (\u001b[38;5;33mMaxPooling2D\u001b[0m)  │ (\u001b[38;5;45mNone\u001b[0m, \u001b[38;5;34m32\u001b[0m, \u001b[38;5;34m32\u001b[0m, \u001b[38;5;34m64\u001b[0m)     │             \u001b[38;5;34m0\u001b[0m │\n",
       "├─────────────────────────────────┼────────────────────────┼───────────────┤\n",
       "│ conv2d_4 (\u001b[38;5;33mConv2D\u001b[0m)               │ (\u001b[38;5;45mNone\u001b[0m, \u001b[38;5;34m32\u001b[0m, \u001b[38;5;34m32\u001b[0m, \u001b[38;5;34m128\u001b[0m)    │        \u001b[38;5;34m73,856\u001b[0m │\n",
       "├─────────────────────────────────┼────────────────────────┼───────────────┤\n",
       "│ conv2d_5 (\u001b[38;5;33mConv2D\u001b[0m)               │ (\u001b[38;5;45mNone\u001b[0m, \u001b[38;5;34m32\u001b[0m, \u001b[38;5;34m32\u001b[0m, \u001b[38;5;34m128\u001b[0m)    │       \u001b[38;5;34m147,584\u001b[0m │\n",
       "├─────────────────────────────────┼────────────────────────┼───────────────┤\n",
       "│ max_pooling2d_2 (\u001b[38;5;33mMaxPooling2D\u001b[0m)  │ (\u001b[38;5;45mNone\u001b[0m, \u001b[38;5;34m16\u001b[0m, \u001b[38;5;34m16\u001b[0m, \u001b[38;5;34m128\u001b[0m)    │             \u001b[38;5;34m0\u001b[0m │\n",
       "├─────────────────────────────────┼────────────────────────┼───────────────┤\n",
       "│ conv2d_6 (\u001b[38;5;33mConv2D\u001b[0m)               │ (\u001b[38;5;45mNone\u001b[0m, \u001b[38;5;34m16\u001b[0m, \u001b[38;5;34m16\u001b[0m, \u001b[38;5;34m256\u001b[0m)    │       \u001b[38;5;34m295,168\u001b[0m │\n",
       "├─────────────────────────────────┼────────────────────────┼───────────────┤\n",
       "│ conv2d_7 (\u001b[38;5;33mConv2D\u001b[0m)               │ (\u001b[38;5;45mNone\u001b[0m, \u001b[38;5;34m16\u001b[0m, \u001b[38;5;34m16\u001b[0m, \u001b[38;5;34m256\u001b[0m)    │       \u001b[38;5;34m590,080\u001b[0m │\n",
       "├─────────────────────────────────┼────────────────────────┼───────────────┤\n",
       "│ max_pooling2d_3 (\u001b[38;5;33mMaxPooling2D\u001b[0m)  │ (\u001b[38;5;45mNone\u001b[0m, \u001b[38;5;34m8\u001b[0m, \u001b[38;5;34m8\u001b[0m, \u001b[38;5;34m256\u001b[0m)      │             \u001b[38;5;34m0\u001b[0m │\n",
       "├─────────────────────────────────┼────────────────────────┼───────────────┤\n",
       "│ dropout (\u001b[38;5;33mDropout\u001b[0m)               │ (\u001b[38;5;45mNone\u001b[0m, \u001b[38;5;34m8\u001b[0m, \u001b[38;5;34m8\u001b[0m, \u001b[38;5;34m256\u001b[0m)      │             \u001b[38;5;34m0\u001b[0m │\n",
       "├─────────────────────────────────┼────────────────────────┼───────────────┤\n",
       "│ flatten (\u001b[38;5;33mFlatten\u001b[0m)               │ (\u001b[38;5;45mNone\u001b[0m, \u001b[38;5;34m16384\u001b[0m)          │             \u001b[38;5;34m0\u001b[0m │\n",
       "├─────────────────────────────────┼────────────────────────┼───────────────┤\n",
       "│ dense (\u001b[38;5;33mDense\u001b[0m)                   │ (\u001b[38;5;45mNone\u001b[0m, \u001b[38;5;34m400\u001b[0m)            │     \u001b[38;5;34m6,554,000\u001b[0m │\n",
       "├─────────────────────────────────┼────────────────────────┼───────────────┤\n",
       "│ dropout_1 (\u001b[38;5;33mDropout\u001b[0m)             │ (\u001b[38;5;45mNone\u001b[0m, \u001b[38;5;34m400\u001b[0m)            │             \u001b[38;5;34m0\u001b[0m │\n",
       "├─────────────────────────────────┼────────────────────────┼───────────────┤\n",
       "│ dense_1 (\u001b[38;5;33mDense\u001b[0m)                 │ (\u001b[38;5;45mNone\u001b[0m, \u001b[38;5;34m38\u001b[0m)             │        \u001b[38;5;34m15,238\u001b[0m │\n",
       "└─────────────────────────────────┴────────────────────────┴───────────────┘\n"
      ]
     },
     "metadata": {},
     "output_type": "display_data"
    },
    {
     "data": {
      "text/html": [
       "<pre style=\"white-space:pre;overflow-x:auto;line-height:normal;font-family:Menlo,'DejaVu Sans Mono',consolas,'Courier New',monospace\"><span style=\"font-weight: bold\"> Total params: </span><span style=\"color: #00af00; text-decoration-color: #00af00\">7,741,494</span> (29.53 MB)\n",
       "</pre>\n"
      ],
      "text/plain": [
       "\u001b[1m Total params: \u001b[0m\u001b[38;5;34m7,741,494\u001b[0m (29.53 MB)\n"
      ]
     },
     "metadata": {},
     "output_type": "display_data"
    },
    {
     "data": {
      "text/html": [
       "<pre style=\"white-space:pre;overflow-x:auto;line-height:normal;font-family:Menlo,'DejaVu Sans Mono',consolas,'Courier New',monospace\"><span style=\"font-weight: bold\"> Trainable params: </span><span style=\"color: #00af00; text-decoration-color: #00af00\">7,741,494</span> (29.53 MB)\n",
       "</pre>\n"
      ],
      "text/plain": [
       "\u001b[1m Trainable params: \u001b[0m\u001b[38;5;34m7,741,494\u001b[0m (29.53 MB)\n"
      ]
     },
     "metadata": {},
     "output_type": "display_data"
    },
    {
     "data": {
      "text/html": [
       "<pre style=\"white-space:pre;overflow-x:auto;line-height:normal;font-family:Menlo,'DejaVu Sans Mono',consolas,'Courier New',monospace\"><span style=\"font-weight: bold\"> Non-trainable params: </span><span style=\"color: #00af00; text-decoration-color: #00af00\">0</span> (0.00 B)\n",
       "</pre>\n"
      ],
      "text/plain": [
       "\u001b[1m Non-trainable params: \u001b[0m\u001b[38;5;34m0\u001b[0m (0.00 B)\n"
      ]
     },
     "metadata": {},
     "output_type": "display_data"
    }
   ],
   "source": [
    "model.summary()"
   ]
  },
  {
   "cell_type": "markdown",
   "id": "8c1ea447-4413-4747-8d98-95067d1eaa21",
   "metadata": {},
   "source": [
    "# Compile the Model"
   ]
  },
  {
   "cell_type": "code",
   "execution_count": 17,
   "id": "acf2aea2-a95e-4947-ac65-d5d5d773cf38",
   "metadata": {},
   "outputs": [],
   "source": [
    "model.compile(optimizer='adam',loss=tf.keras.losses.CategoricalCrossentropy(),metrics=['accuracy'])"
   ]
  },
  {
   "cell_type": "markdown",
   "id": "5636982f-9f75-4256-9030-cca3705c5039",
   "metadata": {},
   "source": [
    "# Train the Model"
   ]
  },
  {
   "cell_type": "code",
   "execution_count": 18,
   "id": "8327a1a2-ac60-4077-b1c7-a91c583030d1",
   "metadata": {},
   "outputs": [
    {
     "name": "stdout",
     "output_type": "stream",
     "text": [
      "Epoch 1/10\n",
      "\u001b[1m2197/2197\u001b[0m \u001b[32m━━━━━━━━━━━━━━━━━━━━\u001b[0m\u001b[37m\u001b[0m \u001b[1m3973s\u001b[0m 2s/step - accuracy: 0.3162 - loss: 2.5206 - val_accuracy: 0.8024 - val_loss: 0.6261\n",
      "Epoch 2/10\n",
      "\u001b[1m2197/2197\u001b[0m \u001b[32m━━━━━━━━━━━━━━━━━━━━\u001b[0m\u001b[37m\u001b[0m \u001b[1m3948s\u001b[0m 2s/step - accuracy: 0.7860 - loss: 0.6870 - val_accuracy: 0.8861 - val_loss: 0.3525\n",
      "Epoch 3/10\n",
      "\u001b[1m2197/2197\u001b[0m \u001b[32m━━━━━━━━━━━━━━━━━━━━\u001b[0m\u001b[37m\u001b[0m \u001b[1m3925s\u001b[0m 2s/step - accuracy: 0.8543 - loss: 0.4562 - val_accuracy: 0.9124 - val_loss: 0.2658\n",
      "Epoch 4/10\n",
      "\u001b[1m2197/2197\u001b[0m \u001b[32m━━━━━━━━━━━━━━━━━━━━\u001b[0m\u001b[37m\u001b[0m \u001b[1m4520s\u001b[0m 2s/step - accuracy: 0.8793 - loss: 0.3805 - val_accuracy: 0.9235 - val_loss: 0.2385\n",
      "Epoch 5/10\n",
      "\u001b[1m2197/2197\u001b[0m \u001b[32m━━━━━━━━━━━━━━━━━━━━\u001b[0m\u001b[37m\u001b[0m \u001b[1m4240s\u001b[0m 2s/step - accuracy: 0.8864 - loss: 0.3510 - val_accuracy: 0.9111 - val_loss: 0.2709\n",
      "Epoch 6/10\n",
      "\u001b[1m2197/2197\u001b[0m \u001b[32m━━━━━━━━━━━━━━━━━━━━\u001b[0m\u001b[37m\u001b[0m \u001b[1m3936s\u001b[0m 2s/step - accuracy: 0.9027 - loss: 0.3015 - val_accuracy: 0.9225 - val_loss: 0.2349\n",
      "Epoch 7/10\n",
      "\u001b[1m2197/2197\u001b[0m \u001b[32m━━━━━━━━━━━━━━━━━━━━\u001b[0m\u001b[37m\u001b[0m \u001b[1m4896s\u001b[0m 2s/step - accuracy: 0.9013 - loss: 0.3053 - val_accuracy: 0.9349 - val_loss: 0.2065\n",
      "Epoch 8/10\n",
      "\u001b[1m2197/2197\u001b[0m \u001b[32m━━━━━━━━━━━━━━━━━━━━\u001b[0m\u001b[37m\u001b[0m \u001b[1m4313s\u001b[0m 2s/step - accuracy: 0.9074 - loss: 0.2871 - val_accuracy: 0.9321 - val_loss: 0.2161\n",
      "Epoch 9/10\n",
      "\u001b[1m2197/2197\u001b[0m \u001b[32m━━━━━━━━━━━━━━━━━━━━\u001b[0m\u001b[37m\u001b[0m \u001b[1m3919s\u001b[0m 2s/step - accuracy: 0.9103 - loss: 0.2803 - val_accuracy: 0.9364 - val_loss: 0.1920\n",
      "Epoch 10/10\n",
      "\u001b[1m2197/2197\u001b[0m \u001b[32m━━━━━━━━━━━━━━━━━━━━\u001b[0m\u001b[37m\u001b[0m \u001b[1m4564s\u001b[0m 2s/step - accuracy: 0.9068 - loss: 0.2936 - val_accuracy: 0.9328 - val_loss: 0.2056\n"
     ]
    }
   ],
   "source": [
    "training_history = model.fit(train_ds,validation_data=valid_ds,epochs=10)"
   ]
  },
  {
   "cell_type": "markdown",
   "id": "ffb46b3a-1792-4732-912f-169268f7104d",
   "metadata": {},
   "source": [
    "# Save Training History"
   ]
  },
  {
   "cell_type": "code",
   "execution_count": 27,
   "id": "38113e81-11e1-4d31-a0f3-01f1456c17fd",
   "metadata": {},
   "outputs": [
    {
     "data": {
      "text/plain": [
       "{'accuracy': [0.5274059176445007,\n",
       "  0.807425856590271,\n",
       "  0.8596770763397217,\n",
       "  0.8822818398475647,\n",
       "  0.889821469783783,\n",
       "  0.9009317755699158,\n",
       "  0.9031367897987366,\n",
       "  0.9079450964927673,\n",
       "  0.9091116189956665,\n",
       "  0.9048865437507629],\n",
       " 'loss': [1.6475882530212402,\n",
       "  0.6112228035926819,\n",
       "  0.4369005262851715,\n",
       "  0.36901426315307617,\n",
       "  0.3394318222999573,\n",
       "  0.30631688237190247,\n",
       "  0.3032594323158264,\n",
       "  0.2859267294406891,\n",
       "  0.2832602262496948,\n",
       "  0.3041699230670929],\n",
       " 'val_accuracy': [0.8023560047149658,\n",
       "  0.8861256837844849,\n",
       "  0.912417471408844,\n",
       "  0.9234578013420105,\n",
       "  0.9111085534095764,\n",
       "  0.9224902987480164,\n",
       "  0.9348964095115662,\n",
       "  0.9321079254150391,\n",
       "  0.9363760352134705,\n",
       "  0.9328477382659912],\n",
       " 'val_loss': [0.6260835528373718,\n",
       "  0.35247600078582764,\n",
       "  0.2657706141471863,\n",
       "  0.23854194581508636,\n",
       "  0.27089160680770874,\n",
       "  0.23489579558372498,\n",
       "  0.20653049647808075,\n",
       "  0.21613210439682007,\n",
       "  0.1920001357793808,\n",
       "  0.20557957887649536]}"
      ]
     },
     "execution_count": 27,
     "metadata": {},
     "output_type": "execute_result"
    }
   ],
   "source": [
    "training_history.history"
   ]
  },
  {
   "cell_type": "code",
   "execution_count": 28,
   "id": "87e8fb64-7370-4747-9d46-b7d262e603da",
   "metadata": {},
   "outputs": [],
   "source": [
    "with open (\"../models/training_hist.json\",\"w\") as f:\n",
    "  json.dump(training_history.history,f)"
   ]
  },
  {
   "cell_type": "markdown",
   "id": "24784124-d4b5-463a-abcc-a7069cee68dd",
   "metadata": {},
   "source": [
    "# Accuracy Visualization"
   ]
  },
  {
   "cell_type": "code",
   "execution_count": 38,
   "id": "3d6327f6-e418-48df-8e32-fdf54c85792e",
   "metadata": {},
   "outputs": [
    {
     "data": {
      "image/png": "[encoded data removed]",
      "text/plain": [
       "<Figure size 1000x500 with 1 Axes>"
      ]
     },
     "metadata": {},
     "output_type": "display_data"
    }
   ],
   "source": [
    "epochs = [i for i in range(1,11)]\n",
    "plt.figure(figsize=(10,5))\n",
    "plt.plot(epochs,training_history.history['accuracy'],color='red',label='Training Accuracy')\n",
    "plt.plot(epochs,training_history.history['val_accuracy'],color='blue',label='Validation Accuracy')\n",
    "plt.xlabel(\"No of epochs\",fontsize=12)\n",
    "plt.ylabel(\"Accuracy Result\",fontsize=12)\n",
    "plt.title(\"Comparison of Training and Validation Accuracy During Model Training\",fontsize=15)\n",
    "plt.show()"
   ]
  },
  {
   "cell_type": "markdown",
   "id": "23a83324-e1a0-41dc-875d-c39ccbb8826e",
   "metadata": {},
   "source": [
    "# Save the Model"
   ]
  },
  {
   "cell_type": "code",
   "execution_count": 39,
   "id": "0ff93dc4-dcca-4e53-9d27-a86e59019c0b",
   "metadata": {},
   "outputs": [],
   "source": [
    "model.save(\"../models/trained_model.keras\")"
   ]
  },
  {
   "cell_type": "markdown",
   "id": "88acca81-64fd-49bf-aeee-2391cc55d1c4",
   "metadata": {},
   "source": [
    "# Saving Class Names"
   ]
  },
  {
   "cell_type": "code",
   "execution_count": 40,
   "id": "baa16aa2-3add-4d16-8199-3c70639c1eec",
   "metadata": {},
   "outputs": [
    {
     "data": {
      "text/plain": [
       "['Apple___Apple_scab',\n",
       " 'Apple___Black_rot',\n",
       " 'Apple___Cedar_apple_rust',\n",
       " 'Apple___healthy',\n",
       " 'Blueberry___healthy',\n",
       " 'Cherry_(including_sour)___Powdery_mildew',\n",
       " 'Cherry_(including_sour)___healthy',\n",
       " 'Corn_(maize)___Cercospora_leaf_spot Gray_leaf_spot',\n",
       " 'Corn_(maize)___Common_rust_',\n",
       " 'Corn_(maize)___Northern_Leaf_Blight',\n",
       " 'Corn_(maize)___healthy',\n",
       " 'Grape___Black_rot',\n",
       " 'Grape___Esca_(Black_Measles)',\n",
       " 'Grape___Leaf_blight_(Isariopsis_Leaf_Spot)',\n",
       " 'Grape___healthy',\n",
       " 'Orange___Haunglongbing_(Citrus_greening)',\n",
       " 'Peach___Bacterial_spot',\n",
       " 'Peach___healthy',\n",
       " 'Pepper,_bell___Bacterial_spot',\n",
       " 'Pepper,_bell___healthy',\n",
       " 'Potato___Early_blight',\n",
       " 'Potato___Late_blight',\n",
       " 'Potato___healthy',\n",
       " 'Raspberry___healthy',\n",
       " 'Soybean___healthy',\n",
       " 'Squash___Powdery_mildew',\n",
       " 'Strawberry___Leaf_scorch',\n",
       " 'Strawberry___healthy',\n",
       " 'Tomato___Bacterial_spot',\n",
       " 'Tomato___Early_blight',\n",
       " 'Tomato___Late_blight',\n",
       " 'Tomato___Leaf_Mold',\n",
       " 'Tomato___Septoria_leaf_spot',\n",
       " 'Tomato___Spider_mites Two-spotted_spider_mite',\n",
       " 'Tomato___Target_Spot',\n",
       " 'Tomato___Tomato_Yellow_Leaf_Curl_Virus',\n",
       " 'Tomato___Tomato_mosaic_virus',\n",
       " 'Tomato___healthy']"
      ]
     },
     "execution_count": 40,
     "metadata": {},
     "output_type": "execute_result"
    }
   ],
   "source": [
    "class_names = train_ds.class_names\n",
    "class_names"
   ]
  },
  {
   "cell_type": "code",
   "execution_count": 41,
   "id": "9348897a-fc51-423f-98c8-e274eb658f9d",
   "metadata": {},
   "outputs": [],
   "source": [
    "with open(\"../models/classnames.json\",\"w\") as f:\n",
    "    json.dump(train_ds.class_names,f)"
   ]
  }
 ],
 "metadata": {
  "kernelspec": {
   "display_name": "DeepLearningEnv",
   "language": "python",
   "name": "deeplearningenv"
  },
  "language_info": {
   "codemirror_mode": {
    "name": "ipython",
    "version": 3
   },
   "file_extension": ".py",
   "mimetype": "text/x-python",
   "name": "python",
   "nbconvert_exporter": "python",
   "pygments_lexer": "ipython3",
   "version": "3.12.11"
  }
 },
 "nbformat": 4,
 "nbformat_minor": 5
}
